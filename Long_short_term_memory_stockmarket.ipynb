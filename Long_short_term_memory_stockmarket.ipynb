{
 "cells": [
  {
   "cell_type": "code",
   "execution_count": 1,
   "metadata": {},
   "outputs": [
    {
     "name": "stderr",
     "output_type": "stream",
     "text": [
      "C:\\Users\\dell\\Anaconda3\\lib\\site-packages\\h5py\\__init__.py:36: FutureWarning: Conversion of the second argument of issubdtype from `float` to `np.floating` is deprecated. In future, it will be treated as `np.float64 == np.dtype(float).type`.\n",
      "  from ._conv import register_converters as _register_converters\n",
      "Using TensorFlow backend.\n"
     ]
    }
   ],
   "source": [
    "import numpy as np\n",
    "import pandas as pd\n",
    "import matplotlib.pyplot as plt\n",
    "from sklearn.preprocessing import MinMaxScaler\n",
    "from keras.models import Sequential, load_model\n",
    "from keras.layers import LSTM, Dense, Dropout,Flatten\n"
   ]
  },
  {
   "cell_type": "code",
   "execution_count": 2,
   "metadata": {},
   "outputs": [
    {
     "data": {
      "text/html": [
       "<div>\n",
       "<style scoped>\n",
       "    .dataframe tbody tr th:only-of-type {\n",
       "        vertical-align: middle;\n",
       "    }\n",
       "\n",
       "    .dataframe tbody tr th {\n",
       "        vertical-align: top;\n",
       "    }\n",
       "\n",
       "    .dataframe thead th {\n",
       "        text-align: right;\n",
       "    }\n",
       "</style>\n",
       "<table border=\"1\" class=\"dataframe\">\n",
       "  <thead>\n",
       "    <tr style=\"text-align: right;\">\n",
       "      <th></th>\n",
       "      <th>Open</th>\n",
       "      <th>High</th>\n",
       "      <th>Low</th>\n",
       "      <th>Last</th>\n",
       "      <th>Close</th>\n",
       "      <th>Total Trade Quantity</th>\n",
       "      <th>Turnover (Lacs)</th>\n",
       "    </tr>\n",
       "    <tr>\n",
       "      <th>Date</th>\n",
       "      <th></th>\n",
       "      <th></th>\n",
       "      <th></th>\n",
       "      <th></th>\n",
       "      <th></th>\n",
       "      <th></th>\n",
       "      <th></th>\n",
       "    </tr>\n",
       "  </thead>\n",
       "  <tbody>\n",
       "    <tr>\n",
       "      <th>2019-04-01</th>\n",
       "      <td>1097.4</td>\n",
       "      <td>1104.45</td>\n",
       "      <td>1081.1</td>\n",
       "      <td>1099.6</td>\n",
       "      <td>1098.65</td>\n",
       "      <td>8465141.0</td>\n",
       "      <td>92529.47</td>\n",
       "    </tr>\n",
       "    <tr>\n",
       "      <th>2019-03-01</th>\n",
       "      <td>1107.5</td>\n",
       "      <td>1114.60</td>\n",
       "      <td>1090.1</td>\n",
       "      <td>1090.3</td>\n",
       "      <td>1092.75</td>\n",
       "      <td>7446457.0</td>\n",
       "      <td>82012.92</td>\n",
       "    </tr>\n",
       "  </tbody>\n",
       "</table>\n",
       "</div>"
      ],
      "text/plain": [
       "              Open     High     Low    Last    Close  Total Trade Quantity  \\\n",
       "Date                                                                         \n",
       "2019-04-01  1097.4  1104.45  1081.1  1099.6  1098.65             8465141.0   \n",
       "2019-03-01  1107.5  1114.60  1090.1  1090.3  1092.75             7446457.0   \n",
       "\n",
       "            Turnover (Lacs)  \n",
       "Date                         \n",
       "2019-04-01         92529.47  \n",
       "2019-03-01         82012.92  "
      ]
     },
     "execution_count": 2,
     "metadata": {},
     "output_type": "execute_result"
    }
   ],
   "source": [
    "da=pd.read_csv('NSE-RELIANCE.csv',parse_dates=True)\n",
    "df = pd.read_csv('NSE-RELIANCE.csv',index_col=\"Date\",parse_dates=True)\n",
    "df.fillna(method='ffill',inplace=True)\n",
    "df.head(2)"
   ]
  },
  {
   "cell_type": "code",
   "execution_count": 3,
   "metadata": {},
   "outputs": [
    {
     "name": "stdout",
     "output_type": "stream",
     "text": [
      "(5184, 1)\n"
     ]
    },
    {
     "data": {
      "text/plain": [
       "array([[1097.4 ],\n",
       "       [1107.5 ],\n",
       "       [1114.5 ],\n",
       "       [1125.25],\n",
       "       [1130.95]])"
      ]
     },
     "execution_count": 3,
     "metadata": {},
     "output_type": "execute_result"
    }
   ],
   "source": [
    "df_open= df['Open'].values\n",
    "df_open = df_open.reshape(-1, 1) #output:(is a 1 dimensional columnar array)\n",
    "print(df_open.shape)\n",
    "df_open[:5]"
   ]
  },
  {
   "cell_type": "code",
   "execution_count": 4,
   "metadata": {},
   "outputs": [],
   "source": [
    "train = df['1998-03-20':'2017-12-31']\n",
    "#train= train.drop('Date', 1)\n",
    "\n",
    "\n",
    "#print('Test Dataset:',test.shape)\n",
    "#print (train.head())\n",
    "test  =df['2018-01-01':'2018-12-31']\n",
    "#print (test.head())"
   ]
  },
  {
   "cell_type": "code",
   "execution_count": 5,
   "metadata": {},
   "outputs": [
    {
     "name": "stdout",
     "output_type": "stream",
     "text": [
      "(4916, 1)\n"
     ]
    },
    {
     "data": {
      "text/plain": [
       "array([[926.5 ],\n",
       "       [925.25],\n",
       "       [933.  ],\n",
       "       ...,\n",
       "       [184.  ],\n",
       "       [178.5 ],\n",
       "       [175.35]])"
      ]
     },
     "execution_count": 5,
     "metadata": {},
     "output_type": "execute_result"
    }
   ],
   "source": [
    "train_open= train['Open'].values\n",
    "train_open = train_open.reshape(-1, 1)\n",
    "\n",
    "print(train_open.shape)\n",
    "\n",
    "train_open[:]"
   ]
  },
  {
   "cell_type": "code",
   "execution_count": 6,
   "metadata": {},
   "outputs": [
    {
     "name": "stdout",
     "output_type": "stream",
     "text": [
      "(246, 1)\n"
     ]
    },
    {
     "data": {
      "text/plain": [
       "array([[1130.95],\n",
       "       [1125.5 ],\n",
       "       [1107.2 ],\n",
       "       [1085.8 ],\n",
       "       [1100.9 ],\n",
       "       [1125.  ],\n",
       "       [1121.  ],\n",
       "       [1141.5 ],\n",
       "       [1123.3 ],\n",
       "       [1115.95],\n",
       "       [1103.1 ],\n",
       "       [1128.  ],\n",
       "       [1099.  ],\n",
       "       [1066.  ],\n",
       "       [1110.  ],\n",
       "       [1129.45],\n",
       "       [1149.  ],\n",
       "       [1143.75],\n",
       "       [1158.  ],\n",
       "       [1174.9 ],\n",
       "       [1172.3 ],\n",
       "       [1161.  ],\n",
       "       [1132.45],\n",
       "       [1107.9 ],\n",
       "       [1109.  ],\n",
       "       [1114.5 ],\n",
       "       [1137.5 ],\n",
       "       [1145.  ],\n",
       "       [1132.9 ],\n",
       "       [1097.95],\n",
       "       [1096.95],\n",
       "       [1105.05],\n",
       "       [1074.  ],\n",
       "       [1097.7 ],\n",
       "       [1106.25],\n",
       "       [1115.  ],\n",
       "       [1094.  ],\n",
       "       [1073.45],\n",
       "       [1067.  ],\n",
       "       [1067.9 ],\n",
       "       [1059.  ],\n",
       "       [1085.5 ],\n",
       "       [1046.  ],\n",
       "       [1032.9 ],\n",
       "       [1036.  ],\n",
       "       [1074.9 ],\n",
       "       [1052.75],\n",
       "       [1110.  ],\n",
       "       [1100.  ],\n",
       "       [1179.  ],\n",
       "       [1146.  ],\n",
       "       [1129.9 ],\n",
       "       [1104.95],\n",
       "       [1064.  ],\n",
       "       [1093.9 ],\n",
       "       [1121.65],\n",
       "       [1050.  ],\n",
       "       [1099.5 ],\n",
       "       [1189.5 ],\n",
       "       [1229.5 ],\n",
       "       [1257.7 ],\n",
       "       [1259.9 ],\n",
       "       [1255.  ],\n",
       "       [1239.  ],\n",
       "       [1235.5 ],\n",
       "       [1214.45],\n",
       "       [1219.  ],\n",
       "       [1224.  ],\n",
       "       [1226.  ],\n",
       "       [1250.75],\n",
       "       [1259.4 ],\n",
       "       [1251.8 ],\n",
       "       [1259.  ],\n",
       "       [1275.  ],\n",
       "       [1264.9 ],\n",
       "       [1230.15],\n",
       "       [1242.5 ],\n",
       "       [1235.15],\n",
       "       [1245.  ],\n",
       "       [1270.  ],\n",
       "       [1293.6 ],\n",
       "       [1316.3 ],\n",
       "       [1296.  ],\n",
       "       [1279.4 ],\n",
       "       [1265.25],\n",
       "       [1246.3 ],\n",
       "       [1237.25],\n",
       "       [1207.9 ],\n",
       "       [1209.  ],\n",
       "       [1203.25],\n",
       "       [1190.  ],\n",
       "       [1197.55],\n",
       "       [1211.  ],\n",
       "       [1221.5 ],\n",
       "       [1185.  ],\n",
       "       [1194.9 ],\n",
       "       [1176.7 ],\n",
       "       [1175.  ],\n",
       "       [1191.5 ],\n",
       "       [1190.4 ],\n",
       "       [1151.  ],\n",
       "       [1130.  ],\n",
       "       [1119.5 ],\n",
       "       [1110.1 ],\n",
       "       [1110.  ],\n",
       "       [1122.  ],\n",
       "       [1129.8 ],\n",
       "       [1113.4 ],\n",
       "       [1093.3 ],\n",
       "       [1098.4 ],\n",
       "       [1078.3 ],\n",
       "       [1099.8 ],\n",
       "       [1080.5 ],\n",
       "       [1044.35],\n",
       "       [1025.  ],\n",
       "       [1002.75],\n",
       "       [ 987.1 ],\n",
       "       [ 964.75],\n",
       "       [ 997.  ],\n",
       "       [ 971.8 ],\n",
       "       [ 965.  ],\n",
       "       [ 972.35],\n",
       "       [ 949.1 ],\n",
       "       [ 962.  ],\n",
       "       [ 978.5 ],\n",
       "       [1006.  ],\n",
       "       [1011.4 ],\n",
       "       [1028.4 ],\n",
       "       [1023.45],\n",
       "       [ 996.  ],\n",
       "       [1013.9 ],\n",
       "       [1008.8 ],\n",
       "       [1006.  ],\n",
       "       [ 997.45],\n",
       "       [1000.  ],\n",
       "       [ 983.4 ],\n",
       "       [ 987.1 ],\n",
       "       [ 966.35],\n",
       "       [ 954.9 ],\n",
       "       [ 947.  ],\n",
       "       [ 942.8 ],\n",
       "       [ 933.4 ],\n",
       "       [ 920.  ],\n",
       "       [ 921.  ],\n",
       "       [ 914.85],\n",
       "       [ 921.5 ],\n",
       "       [ 924.9 ],\n",
       "       [ 916.  ],\n",
       "       [ 914.  ],\n",
       "       [ 926.  ],\n",
       "       [ 933.15],\n",
       "       [ 930.75],\n",
       "       [ 945.6 ],\n",
       "       [ 959.35],\n",
       "       [ 974.  ],\n",
       "       [ 983.05],\n",
       "       [ 991.95],\n",
       "       [ 981.25],\n",
       "       [ 980.  ],\n",
       "       [ 965.9 ],\n",
       "       [ 977.5 ],\n",
       "       [ 958.85],\n",
       "       [ 962.85],\n",
       "       [ 977.9 ],\n",
       "       [ 967.  ],\n",
       "       [ 982.  ],\n",
       "       [ 989.8 ],\n",
       "       [ 973.  ],\n",
       "       [ 973.65],\n",
       "       [ 935.8 ],\n",
       "       [ 930.  ],\n",
       "       [ 938.  ],\n",
       "       [ 939.1 ],\n",
       "       [ 945.25],\n",
       "       [ 940.  ],\n",
       "       [ 934.45],\n",
       "       [ 932.7 ],\n",
       "       [ 929.85],\n",
       "       [ 921.8 ],\n",
       "       [ 918.4 ],\n",
       "       [ 912.55],\n",
       "       [ 908.  ],\n",
       "       [ 905.1 ],\n",
       "       [ 904.7 ],\n",
       "       [ 891.  ],\n",
       "       [ 893.  ],\n",
       "       [ 895.8 ],\n",
       "       [ 907.2 ],\n",
       "       [ 893.95],\n",
       "       [ 890.6 ],\n",
       "       [ 896.  ],\n",
       "       [ 894.85],\n",
       "       [ 893.3 ],\n",
       "       [ 901.  ],\n",
       "       [ 909.  ],\n",
       "       [ 925.  ],\n",
       "       [ 928.8 ],\n",
       "       [ 931.9 ],\n",
       "       [ 920.  ],\n",
       "       [ 914.9 ],\n",
       "       [ 897.65],\n",
       "       [ 909.25],\n",
       "       [ 929.  ],\n",
       "       [ 943.  ],\n",
       "       [ 949.75],\n",
       "       [ 945.95],\n",
       "       [ 939.  ],\n",
       "       [ 939.  ],\n",
       "       [ 925.4 ],\n",
       "       [ 922.  ],\n",
       "       [ 930.  ],\n",
       "       [ 929.  ],\n",
       "       [ 921.  ],\n",
       "       [ 939.6 ],\n",
       "       [ 937.65],\n",
       "       [ 923.  ],\n",
       "       [ 903.  ],\n",
       "       [ 889.  ],\n",
       "       [ 897.9 ],\n",
       "       [ 902.55],\n",
       "       [ 877.  ],\n",
       "       [ 894.  ],\n",
       "       [ 935.  ],\n",
       "       [ 963.25],\n",
       "       [ 950.  ],\n",
       "       [ 965.8 ],\n",
       "       [ 966.2 ],\n",
       "       [ 967.9 ],\n",
       "       [ 981.75],\n",
       "       [ 975.  ],\n",
       "       [ 948.  ],\n",
       "       [ 923.  ],\n",
       "       [ 929.  ],\n",
       "       [ 926.  ],\n",
       "       [ 947.7 ],\n",
       "       [ 950.  ],\n",
       "       [ 943.  ],\n",
       "       [ 941.8 ],\n",
       "       [ 943.  ],\n",
       "       [ 928.15],\n",
       "       [ 926.1 ],\n",
       "       [ 921.8 ],\n",
       "       [ 918.15],\n",
       "       [ 925.  ],\n",
       "       [ 913.  ],\n",
       "       [ 922.7 ]])"
      ]
     },
     "execution_count": 6,
     "metadata": {},
     "output_type": "execute_result"
    }
   ],
   "source": [
    "test_open= test['Open'].values\n",
    "test_open = test_open.reshape(-1, 1)\n",
    "\n",
    "print(test_open.shape)\n",
    "\n",
    "test_open[:]"
   ]
  },
  {
   "cell_type": "code",
   "execution_count": 7,
   "metadata": {},
   "outputs": [
    {
     "name": "stdout",
     "output_type": "stream",
     "text": [
      "(4916, 1)\n"
     ]
    }
   ],
   "source": [
    "scaler = MinMaxScaler(feature_range=(0,1))\n",
    "train_open = scaler.fit_transform(train_open)\n",
    "train_open[1:]\n",
    "print(train_open.shape)"
   ]
  },
  {
   "cell_type": "code",
   "execution_count": 8,
   "metadata": {},
   "outputs": [
    {
     "name": "stdout",
     "output_type": "stream",
     "text": [
      "(246, 1)\n"
     ]
    }
   ],
   "source": [
    "scaler = MinMaxScaler(feature_range=(0,1))\n",
    "test_open = scaler.fit_transform(test_open)\n",
    "test_open[:5]\n",
    "print(test_open.shape)"
   ]
  },
  {
   "cell_type": "code",
   "execution_count": 9,
   "metadata": {},
   "outputs": [],
   "source": [
    "# converting my 1d array into 2 day array with 60 values in each nested list train_open had 1d array.\n",
    "#now after implementing the function timestamp it is converting into 2 d array . \n",
    "#A list within a list containing 60 values"
   ]
  },
  {
   "cell_type": "code",
   "execution_count": 10,
   "metadata": {},
   "outputs": [],
   "source": [
    "def timestamp(df):\n",
    "    x = []\n",
    "    y = []\n",
    "    for i in range(50, df.shape[0]):\n",
    "        x.append(df[i-50:i, 0])\n",
    "        y.append(df[i, 0])\n",
    "    x = np.array(x)\n",
    "    y = np.array(y)\n",
    "    return x,y\n",
    "#count_row = df.shape[0]  # gives number of row count\n",
    "#count_col = df.shape[1]  # gives number of col count"
   ]
  },
  {
   "cell_type": "code",
   "execution_count": 11,
   "metadata": {},
   "outputs": [
    {
     "data": {
      "text/plain": [
       "array([0.24266133, 0.24297428, 0.24306816, ..., 0.02547412, 0.02375289,\n",
       "       0.0227671 ])"
      ]
     },
     "execution_count": 11,
     "metadata": {},
     "output_type": "execute_result"
    }
   ],
   "source": [
    "x_train, y_train = timestamp(train_open)\n",
    "x_train.shape\n",
    "#x_train[1:]\n",
    "y_train[1:]\n",
    "\n"
   ]
  },
  {
   "cell_type": "code",
   "execution_count": 12,
   "metadata": {},
   "outputs": [
    {
     "data": {
      "text/plain": [
       "array([[0.57807876, 0.56567266, 0.52401548, 0.47530162, 0.50967448,\n",
       "        0.56453449, 0.55542909, 0.60209424, 0.56066469, 0.54393353,\n",
       "        0.51468245, 0.57136353, 0.50534942, 0.43022991, 0.53038926,\n",
       "        0.57466424, 0.61916686, 0.60721603, 0.63965399, 0.67812429,\n",
       "        0.67220578, 0.64648304, 0.58149328, 0.52560892, 0.52811291,\n",
       "        0.54063282, 0.59298885, 0.61006146, 0.58251764, 0.50295925,\n",
       "        0.5006829 , 0.51912133, 0.4484407 , 0.50239017, 0.52185295,\n",
       "        0.541771  , 0.49396768, 0.44718871, 0.43250626, 0.43455497,\n",
       "        0.41429547, 0.47461871, 0.38470294, 0.35488277, 0.36193945,\n",
       "        0.45048941, 0.40006829, 0.53038926, 0.50762577, 0.68745732]])"
      ]
     },
     "execution_count": 12,
     "metadata": {},
     "output_type": "execute_result"
    }
   ],
   "source": [
    "x_test, y_test = timestamp(test_open)\n",
    "x_test[:1]"
   ]
  },
  {
   "cell_type": "code",
   "execution_count": 13,
   "metadata": {},
   "outputs": [
    {
     "name": "stdout",
     "output_type": "stream",
     "text": [
      "(4866, 50, 1)\n",
      "(196, 50, 1)\n"
     ]
    }
   ],
   "source": [
    "# Reshape features for LSTM Layer (3d array for lstm)\n",
    "x_train = np.reshape(x_train, (x_train.shape[0], x_train.shape[1], 1))\n",
    "x_test = np.reshape(x_test, (x_test.shape[0], x_test.shape[1], 1))\n",
    "print(x_train.shape)\n",
    "print(x_test.shape)"
   ]
  },
  {
   "cell_type": "markdown",
   "metadata": {},
   "source": [
    "model = Sequential()\n",
    "model.add(LSTM(units=50, return_sequences=True, input_shape=(x_train.shape[1], 1)))\n",
    "model.add(Dropout(0.2))\n",
    "model.add(Dense(units=1))"
   ]
  },
  {
   "cell_type": "code",
   "execution_count": 14,
   "metadata": {
    "scrolled": true
   },
   "outputs": [
    {
     "name": "stdout",
     "output_type": "stream",
     "text": [
      "WARNING:tensorflow:From C:\\Users\\dell\\Anaconda3\\lib\\site-packages\\tensorflow\\python\\framework\\op_def_library.py:263: colocate_with (from tensorflow.python.framework.ops) is deprecated and will be removed in a future version.\n",
      "Instructions for updating:\n",
      "Colocations handled automatically by placer.\n",
      "WARNING:tensorflow:From C:\\Users\\dell\\Anaconda3\\lib\\site-packages\\keras\\backend\\tensorflow_backend.py:3445: calling dropout (from tensorflow.python.ops.nn_ops) with keep_prob is deprecated and will be removed in a future version.\n",
      "Instructions for updating:\n",
      "Please use `rate` instead of `keep_prob`. Rate should be set to `rate = 1 - keep_prob`.\n",
      "WARNING:tensorflow:From C:\\Users\\dell\\Anaconda3\\lib\\site-packages\\tensorflow\\python\\ops\\math_ops.py:3066: to_int32 (from tensorflow.python.ops.math_ops) is deprecated and will be removed in a future version.\n",
      "Instructions for updating:\n",
      "Use tf.cast instead.\n",
      "Train on 3892 samples, validate on 974 samples\n",
      "Epoch 1/10\n",
      "3892/3892 [==============================] - 17s 4ms/step - loss: 0.0072 - val_loss: 2.9115e-04\n",
      "Epoch 2/10\n",
      "3892/3892 [==============================] - 13s 3ms/step - loss: 0.0022 - val_loss: 6.2789e-05\n",
      "Epoch 3/10\n",
      "3892/3892 [==============================] - 14s 4ms/step - loss: 0.0022 - val_loss: 5.3478e-05\n",
      "Epoch 4/10\n",
      "3892/3892 [==============================] - 14s 4ms/step - loss: 0.0017 - val_loss: 6.6458e-05\n",
      "Epoch 5/10\n",
      "3892/3892 [==============================] - 14s 4ms/step - loss: 0.0018 - val_loss: 1.0889e-04\n",
      "Epoch 6/10\n",
      "3892/3892 [==============================] - 14s 3ms/step - loss: 0.0016 - val_loss: 2.3523e-04\n",
      "Epoch 7/10\n",
      "3892/3892 [==============================] - 13s 3ms/step - loss: 0.0017 - val_loss: 4.2714e-04\n",
      "Epoch 8/10\n",
      "3892/3892 [==============================] - 13s 3ms/step - loss: 0.0014 - val_loss: 1.5738e-04\n",
      "Epoch 9/10\n",
      "3892/3892 [==============================] - 14s 4ms/step - loss: 0.0014 - val_loss: 3.5602e-05\n",
      "Epoch 10/10\n",
      "3892/3892 [==============================] - 14s 4ms/step - loss: 0.0012 - val_loss: 6.9619e-05\n"
     ]
    }
   ],
   "source": [
    "l_model = Sequential()\n",
    "\n",
    "\n",
    "l_model.add(LSTM(units=50, return_sequences=True, input_shape=(x_train.shape[1], 1)))\n",
    "l_model.add(Dropout(0.2))\n",
    "\n",
    "l_model.add(LSTM(units=50, return_sequences=True))\n",
    "l_model.add(Dropout(0.2))\n",
    "\n",
    "l_model.add(LSTM(units=50, return_sequences=True))\n",
    "l_model.add(Dropout(0.2))\n",
    "\n",
    "l_model.add(LSTM(units=50))\n",
    "l_model.add(Dropout(0.2))\n",
    "\n",
    "\n",
    "l_model.add(Dense(units=1))\n",
    "\n",
    "l_model.compile(loss='mean_squared_error', optimizer='adam')\n",
    "history=l_model.fit(x_train, y_train, epochs=10, batch_size=32,validation_split=0.2)"
   ]
  },
  {
   "cell_type": "code",
   "execution_count": 15,
   "metadata": {},
   "outputs": [
    {
     "name": "stdout",
     "output_type": "stream",
     "text": [
      "dict_keys(['val_loss', 'loss'])\n"
     ]
    }
   ],
   "source": [
    "print(history.history.keys())"
   ]
  },
  {
   "cell_type": "code",
   "execution_count": 16,
   "metadata": {},
   "outputs": [],
   "source": [
    "#running the algo on the x_test and converting the value into the actual price removing the minmax scale\n",
    "testPredict = l_model.predict(x_test, batch_size=32)\n",
    "testPredict=scaler.inverse_transform(testPredict)"
   ]
  },
  {
   "cell_type": "code",
   "execution_count": 17,
   "metadata": {},
   "outputs": [
    {
     "data": {
      "text/plain": [
       "<matplotlib.legend.Legend at 0x1ed64a77630>"
      ]
     },
     "execution_count": 17,
     "metadata": {},
     "output_type": "execute_result"
    },
    {
     "data": {
      "image/png": "[encoded data removed]",
      "text/plain": [
       "<matplotlib.figure.Figure at 0x1ed57c01be0>"
      ]
     },
     "metadata": {},
     "output_type": "display_data"
    }
   ],
   "source": [
    "#y_test was previous scaled using minmax so get the actual value it is inversed \n",
    "#test_predict is the x_test set which is used after training the train set as the predicting model\n",
    "y_test_scaled = scaler.inverse_transform(y_test.reshape(-1, 1))\n",
    "fig, ax = plt.subplots(figsize=(8,4))\n",
    "ax.plot(y_test_scaled, color='red', label='True Testing Price')\n",
    "plt.plot(testPredict, color='blue', label='Predicted Testing Price')\n",
    "plt.legend()"
   ]
  },
  {
   "cell_type": "code",
   "execution_count": 18,
   "metadata": {},
   "outputs": [
    {
     "data": {
      "image/png": "[encoded data removed]",
      "text/plain": [
       "<matplotlib.figure.Figure at 0x1ed57c019b0>"
      ]
     },
     "metadata": {},
     "output_type": "display_data"
    }
   ],
   "source": [
    " #Get training and test loss histories\n",
    "training_loss = history.history['loss']\n",
    "validation_loss = history.history['val_loss']\n",
    "\n",
    "# Create count of the number of epochs\n",
    "epoch_count = range(1, len(training_loss) + 1)\n",
    "\n",
    "# Visualize loss history\n",
    "plt.plot(epoch_count, training_loss, 'r--')\n",
    "plt.plot(epoch_count, validation_loss, 'b-')\n",
    "plt.legend(['Training Loss', 'validation Loss'])\n",
    "plt.xlabel('Epoch')\n",
    "plt.ylabel('Loss')\n",
    "plt.show();\n"
   ]
  },
  {
   "cell_type": "markdown",
   "metadata": {},
   "source": [
    "# Error Evaluation Metrics :"
   ]
  },
  {
   "cell_type": "code",
   "execution_count": 19,
   "metadata": {},
   "outputs": [
    {
     "name": "stdout",
     "output_type": "stream",
     "text": [
      "196/196 [==============================] - 0s 819us/step\n",
      "value of Mean square error: 0.00845147924478717\n",
      "value of Root mean square error: 0.09193192723307377\n"
     ]
    }
   ],
   "source": [
    "import math \n",
    "score = l_model.evaluate(x_test, y_test, batch_size=32)\n",
    "\n",
    "MSE = score\n",
    "RMSE = math.sqrt(score)\n",
    "print (\"value of Mean square error:\", MSE)\n",
    "print(\"value of Root mean square error:\",RMSE)"
   ]
  },
  {
   "cell_type": "code",
   "execution_count": 20,
   "metadata": {},
   "outputs": [
    {
     "name": "stdout",
     "output_type": "stream",
     "text": [
      "R2:  0.8954242939362937\n"
     ]
    }
   ],
   "source": [
    "from sklearn import metrics\n",
    "print('R2: ', metrics.r2_score(y_test_scaled, testPredict))"
   ]
  },
  {
   "cell_type": "code",
   "execution_count": 21,
   "metadata": {},
   "outputs": [
    {
     "data": {
      "text/plain": [
       "0.8982960406388305"
      ]
     },
     "execution_count": 21,
     "metadata": {},
     "output_type": "execute_result"
    }
   ],
   "source": [
    "from sklearn.metrics import explained_variance_score\n",
    "explained_variance_score(y_test_scaled, testPredict)"
   ]
  }
 ],
 "metadata": {
  "kernelspec": {
   "display_name": "Python 3",
   "language": "python",
   "name": "python3"
  },
  "language_info": {
   "codemirror_mode": {
    "name": "ipython",
    "version": 3
   },
   "file_extension": ".py",
   "mimetype": "text/x-python",
   "name": "python",
   "nbconvert_exporter": "python",
   "pygments_lexer": "ipython3",
   "version": "3.6.4"
  }
 },
 "nbformat": 4,
 "nbformat_minor": 2
}
